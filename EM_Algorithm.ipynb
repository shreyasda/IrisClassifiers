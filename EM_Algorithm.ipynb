{
  "nbformat": 4,
  "nbformat_minor": 0,
  "metadata": {
    "colab": {
      "provenance": [],
      "authorship_tag": "ABX9TyOiliQBUuIw2+aWgPl8+lvJ",
      "include_colab_link": true
    },
    "kernelspec": {
      "name": "python3",
      "display_name": "Python 3"
    },
    "language_info": {
      "name": "python"
    }
  },
  "cells": [
    {
      "cell_type": "markdown",
      "metadata": {
        "id": "view-in-github",
        "colab_type": "text"
      },
      "source": [
        "<a href=\"https://colab.research.google.com/github/shreyasda/IrisClassifiers/blob/main/EM_Algorithm.ipynb\" target=\"_parent\"><img src=\"https://colab.research.google.com/assets/colab-badge.svg\" alt=\"Open In Colab\"/></a>"
      ]
    },
    {
      "cell_type": "code",
      "execution_count": null,
      "metadata": {
        "id": "TFBqTrJmpArn"
      },
      "outputs": [],
      "source": [
        "import pandas as pd\n",
        "from sklearn.mixture import GaussianMixture\n",
        "from sklearn import datasets\n",
        "from sklearn.metrics import accuracy_score"
      ]
    },
    {
      "cell_type": "code",
      "source": [
        "iris = datasets.load_iris()\n",
        "data = iris.data"
      ],
      "metadata": {
        "id": "SDdbjdB9qoJ0"
      },
      "execution_count": null,
      "outputs": []
    },
    {
      "cell_type": "code",
      "source": [
        "em_model = GaussianMixture(n_components=3, random_state=42)\n",
        "em_model.fit(data)\n",
        "em_labels = em_model.predict(data)"
      ],
      "metadata": {
        "id": "AOJFjKsoqrUi"
      },
      "execution_count": null,
      "outputs": []
    },
    {
      "cell_type": "code",
      "source": [
        "labels = iris.target\n",
        "labels_assigned = []\n",
        "for cluster in range(3):\n",
        "    cluster_labels = labels[em_labels == cluster]\n",
        "    most_common_label = pd.Series(cluster_labels).value_counts().idxmax()\n",
        "    labels_assigned.append(most_common_label)"
      ],
      "metadata": {
        "id": "dUWMgOD7qwBk"
      },
      "execution_count": null,
      "outputs": []
    },
    {
      "cell_type": "code",
      "source": [
        "predicted_labels = [labels_assigned[label] for label in em_labels]\n"
      ],
      "metadata": {
        "id": "mjZg4qsZqzCD"
      },
      "execution_count": null,
      "outputs": []
    },
    {
      "cell_type": "code",
      "source": [
        "accuracy = accuracy_score(labels, predicted_labels)\n",
        "print(\"EM Algorithm Accuracy:\", accuracy)"
      ],
      "metadata": {
        "id": "uDqo8g8kq1uJ",
        "outputId": "bde321e1-7b82-4781-c895-906c7f664747",
        "colab": {
          "base_uri": "https://localhost:8080/"
        }
      },
      "execution_count": null,
      "outputs": [
        {
          "output_type": "stream",
          "name": "stdout",
          "text": [
            "EM Algorithm Accuracy: 0.9666666666666667\n"
          ]
        }
      ]
    }
  ]
}